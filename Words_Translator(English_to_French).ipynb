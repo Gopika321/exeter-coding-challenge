{
  "nbformat": 4,
  "nbformat_minor": 0,
  "metadata": {
    "kernelspec": {
      "display_name": "Python 3",
      "language": "python",
      "name": "python3"
    },
    "language_info": {
      "codemirror_mode": {
        "name": "ipython",
        "version": 3
      },
      "file_extension": ".py",
      "mimetype": "text/x-python",
      "name": "python",
      "nbconvert_exporter": "python",
      "pygments_lexer": "ipython3",
      "version": "3.7.6"
    },
    "colab": {
      "name": "Words Translator(English to French).ipynb",
      "provenance": [],
      "collapsed_sections": []
    }
  },
  "cells": [
    {
      "cell_type": "code",
      "metadata": {
        "colab": {
          "base_uri": "https://localhost:8080/"
        },
        "id": "Oj2vAR8dfGJY",
        "outputId": "2632bf79-2f04-48cf-caf3-2db431f64156"
      },
      "source": [
        "!pip install humanfriendly"
      ],
      "execution_count": 30,
      "outputs": [
        {
          "output_type": "stream",
          "text": [
            "Requirement already satisfied: humanfriendly in /usr/local/lib/python3.7/dist-packages (9.2)\n"
          ],
          "name": "stdout"
        }
      ]
    },
    {
      "cell_type": "code",
      "metadata": {
        "id": "iMm0X5g6fGJa"
      },
      "source": [
        "from humanfriendly import format_timespan\n",
        "import time\n",
        "starttime= time.time()\n",
        "english=[]\n",
        "french=[]\n",
        "import csv\n",
        "with open('french_dictionary.csv','r') as f:\n",
        "    reader = csv.reader(f, delimiter=\",\")\n",
        "    for value in reader:\n",
        "        english.append(value[0])\n",
        "        french.append(value[1])"
      ],
      "execution_count": 31,
      "outputs": []
    },
    {
      "cell_type": "code",
      "metadata": {
        "id": "5zMfP_GDfGJb"
      },
      "source": [
        "count=[0]*1000\n",
        "output=open(\"t8.shakespeare.translated.txt\",\"w+\")\n",
        "with open(\"t8.shakespeare.txt\") as txt:\n",
        "    for line in txt:\n",
        "        for word in line.split(' '):\n",
        "            if(word!='\\n' and word in english):\n",
        "                ind=english.index(word)\n",
        "                output.write(french[ind]+\" \")\n",
        "                count[ind]+=1\n",
        "            else:\n",
        "                output.write(word+\" \")\n",
        "output.close()"
      ],
      "execution_count": 32,
      "outputs": []
    },
    {
      "cell_type": "code",
      "metadata": {
        "id": "ZgaVFv33fGJc"
      },
      "source": [
        "csvwriter=open(\"frequency.csv\",\"w\")\n",
        "freq=csv.writer(csvwriter)\n",
        "freq.writerow(['English word','French word','Frequency'])\n",
        "for value in range(1000):\n",
        "    if(count[value]!=0):\n",
        "        freq.writerow([english[value],french[value],count[value]])\n",
        "csvwriter.close()\n",
        "endtime=time.time()"
      ],
      "execution_count": 33,
      "outputs": []
    },
    {
      "cell_type": "code",
      "metadata": {
        "id": "PbxXawgofGJd"
      },
      "source": [
        "import os, psutil; \n",
        "string1=\"Time  to process : \"+format_timespan(end-start)\n",
        "string2=\"Memory used : \"+str(psutil.Process(os.getpid()).memory_info().rss / 1024 ** 2)+\" MB\"\n",
        "\n",
        "with open(\"performance.txt\",\"w\") as per:\n",
        "    per.write(string1+\"\\n\"+string2)"
      ],
      "execution_count": 34,
      "outputs": []
    },
    {
      "cell_type": "code",
      "metadata": {
        "id": "A_4KljgQloKD"
      },
      "source": [
        ""
      ],
      "execution_count": null,
      "outputs": []
    }
  ]
}